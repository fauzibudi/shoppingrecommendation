{
 "cells": [
  {
   "cell_type": "markdown",
   "id": "e37bc239",
   "metadata": {},
   "source": [
    "# Chat Memory"
   ]
  },
  {
   "cell_type": "markdown",
   "id": "55429b33",
   "metadata": {},
   "source": [
    "### Import Library"
   ]
  },
  {
   "cell_type": "code",
   "execution_count": null,
   "id": "ad8f29d4",
   "metadata": {},
   "outputs": [],
   "source": [
    "from haystack_experimental.chat_message_stores.in_memory import InMemoryChatMessageStore\n",
    "from haystack_experimental.components.retrievers import ChatMessageRetriever\n",
    "from haystack_experimental.components.writers import ChatMessageWriter\n",
    "from haystack.dataclasses import ChatMessage\n",
    "from haystack.components.joiners import ListJoiner\n",
    "from haystack import Pipeline\n",
    "from typing import List\n",
    "from haystack.components.builders import ChatPromptBuilder, PromptBuilder\n",
    "from haystack.components.generators.chat import OpenAIChatGenerator\n",
    "from haystack.components.generators import OpenAIGenerator\n",
    "from haystack.components.converters import OutputAdapter\n",
    "from haystack.utils import Secret\n",
    "from getpass import getpass\n",
    "import os"
   ]
  },
  {
   "cell_type": "code",
   "execution_count": 8,
   "id": "8a7c9319",
   "metadata": {},
   "outputs": [],
   "source": [
    "os.environ[\"OPENAI_API_KEY\"] = getpass(\"Masukkan OpenAI API Key Anda: \")"
   ]
  },
  {
   "cell_type": "code",
   "execution_count": 9,
   "id": "64e045d2",
   "metadata": {},
   "outputs": [],
   "source": [
    "os.environ[\"MONGO_CONNECTION_STRING\"] = getpass(\"Masukkan MongoDB Connection String Anda: \")"
   ]
  },
  {
   "cell_type": "markdown",
   "id": "4a749d59",
   "metadata": {},
   "source": [
    "### Membuat Pipeline"
   ]
  },
  {
   "cell_type": "markdown",
   "id": "e63dcaf7",
   "metadata": {},
   "source": [
    "membuat chat tanpa memory"
   ]
  },
  {
   "cell_type": "code",
   "execution_count": 15,
   "id": "986beaf4",
   "metadata": {},
   "outputs": [],
   "source": [
    "system_message = ChatMessage.from_system(\"You are a helpful assistant that answers questions based on the provided context.\")\n",
    "user_message_template = \"\"\"\n",
    "Answer the question based on the user query:\n",
    "query:{{query}}\n",
    "answer:\n",
    "\"\"\"\n",
    "user_message = ChatMessage.from_user(user_message_template)"
   ]
  },
  {
   "cell_type": "code",
   "execution_count": null,
   "id": "083ecec4",
   "metadata": {},
   "outputs": [
    {
     "data": {
      "text/plain": [
       "<haystack.core.pipeline.pipeline.Pipeline object at 0x0000014A10832270>\n",
       "🚅 Components\n",
       "  - prompt_builder: ChatPromptBuilder\n",
       "  - generator: OpenAIChatGenerator\n",
       "🛤️ Connections\n",
       "  - prompt_builder.prompt -> generator.messages (List[ChatMessage])"
      ]
     },
     "execution_count": 16,
     "metadata": {},
     "output_type": "execute_result"
    }
   ],
   "source": [
    "pipeline = Pipeline()\n",
    "pipeline.add_component(\"prompt_builder\", ChatPromptBuilder(variables=[\"query\"], required_variables=[\"query\"]))\n",
    "pipeline.add_component(\"generator\", OpenAIChatGenerator(model=\"gpt-4.1\", api_key=Secret.from_token(os.environ[\"OPENAI_API_KEY\"])))\n",
    "\n",
    "\n",
    "pipeline.connect(\"prompt_builder.prompt\", \"generator.messages\")"
   ]
  },
  {
   "cell_type": "code",
   "execution_count": 18,
   "id": "19a6e784",
   "metadata": {},
   "outputs": [
    {
     "name": "stdout",
     "output_type": "stream",
     "text": [
      "AI Response: Albert Einstein was a German-born theoretical physicist who is best known for developing the theory of relativity and the famous equation E=mc². He made significant contributions to physics, won the Nobel Prize in Physics in 1921, and is considered one of the most influential scientists of the 20th century.\n",
      "AI Response: I'm sorry, but I need more information about the person you are referring to in order to answer your question about where he was born. Could you please specify who \"he\" is?\n"
     ]
    }
   ],
   "source": [
    "while True:\n",
    "    messages = [system_message, user_message]\n",
    "    query = input(\"Please input your question or type 'exit' to quit.\\n\")\n",
    "    if query.lower() == \"exit\":\n",
    "        break\n",
    "    res = pipeline.run(\n",
    "        {\n",
    "            \"prompt_builder\": {\n",
    "                \"query\": query,\n",
    "                \"template\":messages\n",
    "            }\n",
    "        }\n",
    "    )\n",
    "    print(\"AI Response:\", res[\"generator\"][\"replies\"][0].text)"
   ]
  },
  {
   "cell_type": "markdown",
   "id": "85ac151e",
   "metadata": {},
   "source": [
    "Membuat Pipeline dengan memory chat"
   ]
  },
  {
   "cell_type": "markdown",
   "id": "9805cf94",
   "metadata": {},
   "source": [
    "mendefinisikan InMemoryChatMessageStore terlebih dahulu"
   ]
  },
  {
   "cell_type": "code",
   "execution_count": 30,
   "id": "60a27ecf",
   "metadata": {},
   "outputs": [],
   "source": [
    "memory_store = InMemoryChatMessageStore()\n",
    "memory_retriever = ChatMessageRetriever(memory_store)\n",
    "memory_writer = ChatMessageWriter(memory_store)"
   ]
  },
  {
   "cell_type": "code",
   "execution_count": 31,
   "id": "69f198ed",
   "metadata": {},
   "outputs": [],
   "source": [
    "system_message = ChatMessage.from_system(\"You are a helpful assistant that answers questions based on the provided context.\")\n",
    "user_message_template = \"\"\"\n",
    "Answer the question based on the user query, please pay attention to the chat history:\n",
    "chat_history:\n",
    "{% for memory in memories %}\n",
    "    {{memory.text}}\n",
    "{% endfor %}\n",
    "\n",
    "query:{{query}}\n",
    "answer:\n",
    "\"\"\"\n",
    "user_message = ChatMessage.from_user(user_message_template)"
   ]
  },
  {
   "cell_type": "code",
   "execution_count": 32,
   "id": "094593c9",
   "metadata": {},
   "outputs": [
    {
     "data": {
      "text/plain": [
       "<haystack.core.pipeline.pipeline.Pipeline object at 0x0000014A10020E90>\n",
       "🚅 Components\n",
       "  - prompt_builder: ChatPromptBuilder\n",
       "  - generator: OpenAIChatGenerator\n",
       "  - joiner: ListJoiner\n",
       "  - memory_retriever: ChatMessageRetriever\n",
       "  - memory_writer: ChatMessageWriter\n",
       "🛤️ Connections\n",
       "  - prompt_builder.prompt -> generator.messages (List[ChatMessage])\n",
       "  - generator.replies -> joiner.values (List[ChatMessage])\n",
       "  - joiner.values -> memory_writer.messages (List[ChatMessage])\n",
       "  - memory_retriever.messages -> prompt_builder.memories (List[ChatMessage])"
      ]
     },
     "execution_count": 32,
     "metadata": {},
     "output_type": "execute_result"
    }
   ],
   "source": [
    "pipeline = Pipeline()\n",
    "pipeline.add_component(\"prompt_builder\", ChatPromptBuilder(variables=[\"query\",\"memories\"], required_variables=[\"query\",\"memories\"]))\n",
    "pipeline.add_component(\"generator\", OpenAIChatGenerator(model=\"gpt-4.1\", api_key=Secret.from_token(os.environ[\"OPENAI_API_KEY\"])))\n",
    "pipeline.add_component(\"joiner\", ListJoiner(List[ChatMessage]))\n",
    "pipeline.add_component(\"memory_retriever\", memory_retriever)\n",
    "pipeline.add_component(\"memory_writer\", memory_writer)\n",
    "\n",
    "pipeline.connect(\"prompt_builder.prompt\", \"generator.messages\")\n",
    "pipeline.connect(\"generator.replies\", \"joiner\")\n",
    "pipeline.connect(\"joiner\", \"memory_writer\")\n",
    "pipeline.connect(\"memory_retriever\", \"prompt_builder.memories\")"
   ]
  },
  {
   "cell_type": "code",
   "execution_count": 35,
   "id": "91e07eff",
   "metadata": {},
   "outputs": [
    {
     "name": "stdout",
     "output_type": "stream",
     "text": [
      "AI Response: Albert Einstein was a renowned German-born theoretical physicist best known for developing the theory of relativity, one of the two pillars of modern physics (the other being quantum mechanics). His famous equation, E=mc², expresses the relationship between mass and energy. Einstein received the Nobel Prize in Physics in 1921 for his explanation of the photoelectric effect, which was pivotal in establishing quantum theory. He is widely regarded as one of the most influential scientists of the 20th century.\n",
      "AI Response: Albert Einstein was born on March 14, 1879.\n",
      "AI Response: Goodbye! If you have any more questions in the future, feel free to ask.\n"
     ]
    }
   ],
   "source": [
    "while True:\n",
    "    messages = [system_message, user_message]\n",
    "    query = input(\"Please input your question or type 'exit' to quit.\\n\")\n",
    "    if query.lower() == \"exit\":\n",
    "        break\n",
    "    res = pipeline.run(\n",
    "        data={\n",
    "            \"prompt_builder\": {\n",
    "                \"query\": query,\n",
    "                \"template\":messages\n",
    "            },\n",
    "            \"joiner\":{\n",
    "                \"values\": [ChatMessage.from_user(query)]\n",
    "            }\n",
    "        },\n",
    "        include_outputs_from=[\"generator\"]\n",
    "    )\n",
    "    # print(res)\n",
    "    print(\"AI Response:\", res[\"generator\"][\"replies\"][0].text)"
   ]
  },
  {
   "cell_type": "code",
   "execution_count": null,
   "id": "76381e19",
   "metadata": {},
   "outputs": [],
   "source": []
  }
 ],
 "metadata": {
  "kernelspec": {
   "display_name": "shop_recommendation",
   "language": "python",
   "name": "python3"
  },
  "language_info": {
   "codemirror_mode": {
    "name": "ipython",
    "version": 3
   },
   "file_extension": ".py",
   "mimetype": "text/x-python",
   "name": "python",
   "nbconvert_exporter": "python",
   "pygments_lexer": "ipython3",
   "version": "3.12.11"
  }
 },
 "nbformat": 4,
 "nbformat_minor": 5
}
