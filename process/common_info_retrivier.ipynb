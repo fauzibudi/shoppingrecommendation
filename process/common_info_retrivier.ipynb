{
 "cells": [
  {
   "cell_type": "code",
   "execution_count": 1,
   "id": "45134a84",
   "metadata": {},
   "outputs": [
    {
     "name": "stderr",
     "output_type": "stream",
     "text": [
      "d:\\kerjo\\python101\\day-131-shop_recommendation_dibimbing-master\\tf_env\\lib\\site-packages\\tqdm\\auto.py:21: TqdmWarning: IProgress not found. Please update jupyter and ipywidgets. See https://ipywidgets.readthedocs.io/en/stable/user_install.html\n",
      "  from .autonotebook import tqdm as notebook_tqdm\n",
      "PromptBuilder has 3 prompt variables, but `required_variables` is not set. By default, all prompt variables are treated as optional, which may lead to unintended behavior in multi-branch pipelines. To avoid unexpected execution, ensure that variables intended to be required are explicitly set in `required_variables`.\n"
     ]
    }
   ],
   "source": [
    "import os\n",
    "from haystack import Pipeline, Document\n",
    "from haystack.dataclasses import ChatMessage\n",
    "from haystack.components.embedders import SentenceTransformersTextEmbedder\n",
    "from haystack_integrations.document_stores.mongodb_atlas import MongoDBAtlasDocumentStore\n",
    "from haystack_integrations.components.retrievers.mongodb_atlas import MongoDBAtlasEmbeddingRetriever\n",
    "from haystack.components.builders import PromptBuilder\n",
    "from haystack.components.generators import OpenAIGenerator\n",
    "from haystack.utils import Secret\n",
    "from dotenv import load_dotenv\n",
    "\n",
    "load_dotenv()\n",
    "\n",
    "os.environ[\"MONGO_CONNECTION_STRING\"] = os.getenv(\"MONGO_CONNECTION_STRING2\")\n",
    "os.environ[\"GROQ_API_KEY\"] = os.getenv(\"GROQ_API_KEY\")\n",
    "\n",
    "document_store = MongoDBAtlasDocumentStore(\n",
    "    database_name=\"depato_store\",\n",
    "    collection_name=\"common_info\",\n",
    "    vector_search_index=\"vector_index\",\n",
    "    full_text_search_index=\"search_index\"\n",
    ")\n",
    "\n",
    "conversation_history = []\n",
    "\n",
    "rag_pipeline = Pipeline()\n",
    "\n",
    "rag_pipeline.add_component(\n",
    "    name=\"text_embedder\",\n",
    "    instance=SentenceTransformersTextEmbedder()\n",
    ")\n",
    "\n",
    "rag_pipeline.add_component(\n",
    "    name=\"retriever\",\n",
    "    instance=MongoDBAtlasEmbeddingRetriever(document_store=document_store, top_k=5)\n",
    ")\n",
    "\n",
    "prompt_template = \"\"\"\n",
    "You are a helpful assistant. Use the following conversation history and retrieved documents to answer the user's question. \n",
    "If the documents or history do not contain the answer, say that you don't have enough information.\n",
    "\n",
    "Conversation History:\n",
    "{% for message in conversation_history %}\n",
    "    {{ message.role }}: {{ message.content }}\n",
    "{% endfor %}\n",
    "\n",
    "Documents:\n",
    "{% for doc in documents %}\n",
    "    {{ doc.content }}\n",
    "{% endfor %}\n",
    "\n",
    "Question: {{ query }}\n",
    "Answer:\n",
    "\"\"\"\n",
    "\n",
    "rag_pipeline.add_component(\n",
    "    name=\"prompt_builder\",\n",
    "    instance=PromptBuilder(template=prompt_template)\n",
    ")\n",
    "\n",
    "rag_pipeline.add_component(\n",
    "    name=\"llm\",\n",
    "    instance=OpenAIGenerator(\n",
    "        model=\"llama3-70b-8192\",\n",
    "        api_key=Secret.from_env_var(\"GROQ_API_KEY\"),\n",
    "        api_base_url=\"https://api.groq.com/openai/v1\"\n",
    "    )\n",
    ")\n",
    "\n",
    "rag_pipeline.connect(\"text_embedder.embedding\", \"retriever.query_embedding\")\n",
    "rag_pipeline.connect(\"retriever\", \"prompt_builder.documents\")\n",
    "rag_pipeline.connect(\"prompt_builder\", \"llm\")\n",
    "\n",
    "def run_query(user_query):\n",
    "    conversation_history.append(ChatMessage.from_user(user_query))\n",
    "\n",
    "    response = rag_pipeline.run(\n",
    "        {\n",
    "            \"text_embedder\": {\"text\": user_query},\n",
    "            \"prompt_builder\": {\n",
    "                \"query\": user_query,\n",
    "                \"conversation_history\": conversation_history\n",
    "            }\n",
    "        }\n",
    "    )\n",
    "\n",
    "    answer = response['llm']['replies'][0]\n",
    "\n",
    "    conversation_history.append(ChatMessage.from_assistant(answer))\n",
    "\n",
    "    if len(conversation_history) > 10:\n",
    "        conversation_history[:] = conversation_history[-10:]\n",
    "\n",
    "    return answer\n",
    "\n"
   ]
  },
  {
   "cell_type": "code",
   "execution_count": null,
   "id": "7c604195",
   "metadata": {},
   "outputs": [
    {
     "name": "stderr",
     "output_type": "stream",
     "text": [
      "Batches: 100%|██████████| 1/1 [00:00<00:00,  2.19it/s]\n"
     ]
    },
    {
     "name": "stdout",
     "output_type": "stream",
     "text": [
      "Generated Answer: Based on the provided documents, to cancel your order, you can follow these steps:\n",
      "\n",
      "1. Sign in to your account: Access the company's platform and log in using your credentials.\n",
      "2. Navigate to your order history: Once logged in, find the section labeled \"Order History\" or \"My Orders\".\n",
      "3. Locate your order: Look for the order with the specific order number and click on it.\n",
      "4. Initiate the cancellation: Within the order details, find an option labeled \"Cancel Order\" and select it.\n",
      "5. Confirm the cancellation: Follow any additional prompts or instructions to confirm the cancellation.\n",
      "\n",
      "If you encounter any difficulties or have further questions, you can reach out to the customer support team during their available hours at the provided phone number or through the Live Chat feature on their website.\n"
     ]
    },
    {
     "name": "stderr",
     "output_type": "stream",
     "text": [
      "Batches: 100%|██████████| 1/1 [00:00<00:00, 12.49it/s]\n"
     ]
    },
    {
     "name": "stdout",
     "output_type": "stream",
     "text": [
      "Generated Answer: According to the provided documents, the refund policy for canceled orders is as follows:\n",
      "\n",
      "* **Cancellation within Grace Period:** If you decide to cancel your purchase within the specified grace period, you may be eligible for a refund.\n",
      "* **Event Cancellation:** If an event you have purchased tickets for is canceled and not rescheduled, you can typically obtain a refund.\n",
      "\n",
      "Please note that specific vendors or service providers may have their own refund policies, so it's essential to review their terms and conditions for more detailed information.\n"
     ]
    }
   ],
   "source": [
    "# Example usage\n",
    "if __name__ == \"__main__\":\n",
    "    user_query = \"How can I cancel my order?\"\n",
    "    answer = run_query(user_query)\n",
    "    print(\"Generated Answer:\", answer)\n",
    "\n",
    "    follow_up_query = \"What are the refund policies for canceled orders?\"\n",
    "    answer = run_query(follow_up_query)\n",
    "    print(\"Generated Answer:\", answer)"
   ]
  },
  {
   "cell_type": "code",
   "execution_count": null,
   "id": "82d20d71",
   "metadata": {},
   "outputs": [],
   "source": []
  }
 ],
 "metadata": {
  "kernelspec": {
   "display_name": "tf_env",
   "language": "python",
   "name": "python3"
  },
  "language_info": {
   "codemirror_mode": {
    "name": "ipython",
    "version": 3
   },
   "file_extension": ".py",
   "mimetype": "text/x-python",
   "name": "python",
   "nbconvert_exporter": "python",
   "pygments_lexer": "ipython3",
   "version": "3.10.0"
  }
 },
 "nbformat": 4,
 "nbformat_minor": 5
}
