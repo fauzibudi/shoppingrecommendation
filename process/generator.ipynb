{
 "cells": [
  {
   "cell_type": "markdown",
   "id": "61b4f71d",
   "metadata": {},
   "source": [
    "# Generator"
   ]
  },
  {
   "cell_type": "markdown",
   "id": "2ecb0f89",
   "metadata": {},
   "source": [
    "## Generator untuk Retrieval Process"
   ]
  },
  {
   "cell_type": "code",
   "execution_count": 26,
   "id": "45460cbf",
   "metadata": {},
   "outputs": [
    {
     "name": "stderr",
     "output_type": "stream",
     "text": [
      "c:\\Users\\GULO\\.conda\\envs\\shop_recommendation\\Lib\\site-packages\\tqdm\\auto.py:21: TqdmWarning: IProgress not found. Please update jupyter and ipywidgets. See https://ipywidgets.readthedocs.io/en/stable/user_install.html\n",
      "  from .autonotebook import tqdm as notebook_tqdm\n"
     ]
    }
   ],
   "source": [
    "from haystack import Pipeline, component\n",
    "from haystack.components.builders import PromptBuilder\n",
    "from haystack_integrations.components.retrievers.mongodb_atlas import MongoDBAtlasEmbeddingRetriever\n",
    "from haystack.components.embedders import SentenceTransformersTextEmbedder\n",
    "\n",
    "from haystack_integrations.document_stores.mongodb_atlas import MongoDBAtlasDocumentStore\n",
    "import os\n",
    "from haystack.components.generators import OpenAIGenerator\n",
    "from haystack.utils import Secret\n",
    "from typing import List\n",
    "from getpass import getpass"
   ]
  },
  {
   "cell_type": "markdown",
   "id": "498f38d4",
   "metadata": {},
   "source": [
    "Define Connection Environment"
   ]
  },
  {
   "cell_type": "code",
   "execution_count": null,
   "id": "4410a796",
   "metadata": {},
   "outputs": [],
   "source": [
    "os.environ['MONGO_CONNECTION_STRING'] = getpass(\"Enter your MongoDB connection string: \")"
   ]
  },
  {
   "cell_type": "code",
   "execution_count": null,
   "id": "a56e8c64",
   "metadata": {},
   "outputs": [],
   "source": [
    "os.environ['OPENAI_API_KEY'] = getpass(\"Enter your OpenAI API key: \")"
   ]
  },
  {
   "cell_type": "markdown",
   "id": "c9b4eebc",
   "metadata": {},
   "source": [
    "membuat pipeline"
   ]
  },
  {
   "cell_type": "code",
   "execution_count": null,
   "id": "161acafa",
   "metadata": {},
   "outputs": [],
   "source": [
    "document_store = MongoDBAtlasDocumentStore(\n",
    "    database_name=\"depato_store\",\n",
    "    collection_name=\"products\",\n",
    "    vector_search_index=\"vector_index\",\n",
    "    full_text_search_index=\"search_index\",\n",
    ")"
   ]
  },
  {
   "cell_type": "code",
   "execution_count": 32,
   "id": "4f6f2dd4",
   "metadata": {},
   "outputs": [],
   "source": [
    "TEMPLATE = \"\"\"\"\n",
    "You are a shop assiistant that helps users find the best products in a shopping mall.\n",
    "You will be give a query and list of products. Your task is to generate a list of products that best match the query.\n",
    "\n",
    "The output should be a list of products in the following format:\n",
    "\n",
    "<summary_of_query>\n",
    "<index>. <product_name> \n",
    "Price: <product_price>\n",
    "Material: <product_material>\n",
    "Category: <product_category>\n",
    "Brand: <product_brand>\n",
    "Recommendation: <product_recommendation>\n",
    "\n",
    "From the format above, you should pay attention to the following:\n",
    "1. <summary_of_query> should be a short summary of the query.\n",
    "2. <index> should be a number starting from 1.\n",
    "3. <product_name> should be the name of the product, this product name can be found from the product_name field.\n",
    "4. <product_price> should be the price of the product, this product price can be found from the product_price field.\n",
    "5. <product_material> should be the material of the product, this product material can be found from the product_material field.\n",
    "6. <product_category> should be the category of the product, this product category can be found from the product_category field.\n",
    "7. <product_brand> should be the brand of the product, this product brand can be found from the product_brand field.\n",
    "8. <product_recommendation> should be the recommendation of the product, you should give a recommendation why this product is recommended, please pay attentation to the product_content field. \n",
    "\n",
    "\n",
    "You should only return the list of products that best match the query, do not return any other information.\n",
    "\n",
    "The query is: {{query}}\n",
    "the products are:\n",
    "{% for product in documents %}\n",
    "===========================================================\n",
    "{{loop.index + 1}}. product_name: {{ product.meta.title }}\n",
    "product_price: {{ product.meta.price }}\n",
    "product_material: {{ product.meta.material }}\n",
    "product_category: {{ product.meta.category }}\n",
    "product_brand: {{ product.meta.brand }}\n",
    "product_content: {{ product.content}}\n",
    "{% endfor %}\n",
    "\n",
    "===========================================================\n",
    "\n",
    "Answer:\n",
    "\n",
    "\"\"\""
   ]
  },
  {
   "cell_type": "code",
   "execution_count": 33,
   "id": "15daafd8",
   "metadata": {},
   "outputs": [
    {
     "name": "stderr",
     "output_type": "stream",
     "text": [
      "PromptBuilder has 2 prompt variables, but `required_variables` is not set. By default, all prompt variables are treated as optional, which may lead to unintended behavior in multi-branch pipelines. To avoid unexpected execution, ensure that variables intended to be required are explicitly set in `required_variables`.\n"
     ]
    }
   ],
   "source": [
    "pipeline = Pipeline()\n",
    "pipeline.add_component(\"embedder\", SentenceTransformersTextEmbedder())\n",
    "pipeline.add_component(\"retriever\", MongoDBAtlasEmbeddingRetriever(document_store=document_store, top_k=5))\n",
    "pipeline.add_component(\"prompt_builder\", PromptBuilder(template=TEMPLATE))\n",
    "pipeline.add_component(\"generator\", OpenAIGenerator(model=\"gpt-4.1\", api_key=Secret.from_token(os.environ['OPENAI_API_KEY'])))"
   ]
  },
  {
   "cell_type": "code",
   "execution_count": 34,
   "id": "27595d98",
   "metadata": {},
   "outputs": [
    {
     "data": {
      "text/plain": [
       "<haystack.core.pipeline.pipeline.Pipeline object at 0x000001AFD898C830>\n",
       "🚅 Components\n",
       "  - embedder: SentenceTransformersTextEmbedder\n",
       "  - retriever: MongoDBAtlasEmbeddingRetriever\n",
       "  - prompt_builder: PromptBuilder\n",
       "  - generator: OpenAIGenerator\n",
       "🛤️ Connections\n",
       "  - embedder.embedding -> retriever.query_embedding (List[float])\n",
       "  - retriever.documents -> prompt_builder.documents (List[Document])\n",
       "  - prompt_builder.prompt -> generator.prompt (str)"
      ]
     },
     "execution_count": 34,
     "metadata": {},
     "output_type": "execute_result"
    }
   ],
   "source": [
    "pipeline.connect(\"embedder\", \"retriever\")\n",
    "pipeline.connect(\"retriever\", \"prompt_builder\")\n",
    "pipeline.connect(\"prompt_builder\", \"generator\")"
   ]
  },
  {
   "cell_type": "code",
   "execution_count": 35,
   "id": "5420993c",
   "metadata": {},
   "outputs": [
    {
     "name": "stderr",
     "output_type": "stream",
     "text": [
      "Batches: 100%|██████████| 1/1 [00:00<00:00,  3.13it/s]\n"
     ]
    }
   ],
   "source": [
    "query=\"I want to find an Outerwear that is not make me hot\"\n",
    "response = pipeline.run(\n",
    "    {\n",
    "        \"embedder\":{\n",
    "            \"text\": query\n",
    "        },\n",
    "        \"prompt_builder\":{\n",
    "            \"query\": query\n",
    "        }\n",
    "    }\n",
    ")"
   ]
  },
  {
   "cell_type": "code",
   "execution_count": 37,
   "id": "0e127e70",
   "metadata": {},
   "outputs": [
    {
     "data": {
      "text/plain": [
       "\"Lightweight and breathable outerwear options that won't make you feel hot.\\n\\n1. Under Armour Heatgear Alpha Muscle Crop Tee - Women's  \\nPrice: 35.01  \\nMaterial: Polyester  \\nCategory: Tops  \\nBrand: Under Armour  \\nRecommendation: This crop tee features super-breathable mesh construction and Under Armour's HeatGear technology, designed specifically to wick sweat and keep you dry and cool. Its lightweight, stretchy material and cropped silhouette make it ideal for staying comfortable in warm conditions.\\n\\n2. INGEAR Ladies Rash Guard Long Sleeve Shirt Swimwear  \\nPrice: 16.99  \\nMaterial: Unknown  \\nCategory: Tops  \\nBrand: In Gear  \\nRecommendation: This rash guard is intended for active wear in and out of water, providing coverage while remaining lightweight. It's suitable for hot weather activities like swimming and beach outings, ensuring you don’t overheat while being protected from the sun.\""
      ]
     },
     "execution_count": 37,
     "metadata": {},
     "output_type": "execute_result"
    }
   ],
   "source": [
    "response['generator']['replies'][0]"
   ]
  },
  {
   "cell_type": "code",
   "execution_count": null,
   "id": "5a15492a",
   "metadata": {},
   "outputs": [],
   "source": []
  }
 ],
 "metadata": {
  "kernelspec": {
   "display_name": "shop_recommendation",
   "language": "python",
   "name": "python3"
  },
  "language_info": {
   "name": "python",
   "version": "3.12.11"
  }
 },
 "nbformat": 4,
 "nbformat_minor": 5
}
