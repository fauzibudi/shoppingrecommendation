{
 "cells": [
  {
   "cell_type": "markdown",
   "id": "88aa8910",
   "metadata": {},
   "source": [
    "# Retriever\n"
   ]
  },
  {
   "cell_type": "markdown",
   "id": "61897c10",
   "metadata": {},
   "source": [
    "## Buat Haystack Pipeline untuk retrieve data dari mongodb atlas"
   ]
  },
  {
   "cell_type": "code",
   "execution_count": null,
   "id": "0c2a392c",
   "metadata": {},
   "outputs": [],
   "source": [
    "import os\n",
    "from getpass import getpass\n",
    "os.environ[\"MONGO_CONNECTION_STRING\"] = getpass(\"Masukkan MongoDB Connection String Anda: \")"
   ]
  },
  {
   "cell_type": "code",
   "execution_count": 16,
   "id": "fef95469",
   "metadata": {},
   "outputs": [],
   "source": [
    "from haystack import Pipeline\n",
    "from haystack.components.embedders import SentenceTransformersTextEmbedder\n",
    "from haystack_integrations.document_stores.mongodb_atlas import MongoDBAtlasDocumentStore\n",
    "from haystack_integrations.components.retrievers.mongodb_atlas import MongoDBAtlasEmbeddingRetriever\n",
    "\n",
    "document_store = MongoDBAtlasDocumentStore(\n",
    "    database_name=\"depato_store\",\n",
    "    collection_name=\"products\",\n",
    "    vector_search_index=\"vector_index\",\n",
    "    full_text_search_index=\"search_index\",\n",
    ")"
   ]
  },
  {
   "cell_type": "code",
   "execution_count": 17,
   "id": "fd221133",
   "metadata": {},
   "outputs": [],
   "source": [
    "pipeline = Pipeline()\n",
    "pipeline.add_component(\"embedder\", SentenceTransformersTextEmbedder())\n",
    "pipeline.add_component(\"retriever\", MongoDBAtlasEmbeddingRetriever(document_store=document_store,top_k=10))"
   ]
  },
  {
   "cell_type": "code",
   "execution_count": 18,
   "id": "43162129",
   "metadata": {},
   "outputs": [
    {
     "data": {
      "text/plain": [
       "<haystack.core.pipeline.pipeline.Pipeline object at 0x000001B9886156A0>\n",
       "🚅 Components\n",
       "  - embedder: SentenceTransformersTextEmbedder\n",
       "  - retriever: MongoDBAtlasEmbeddingRetriever\n",
       "🛤️ Connections\n",
       "  - embedder.embedding -> retriever.query_embedding (List[float])"
      ]
     },
     "execution_count": 18,
     "metadata": {},
     "output_type": "execute_result"
    }
   ],
   "source": [
    "pipeline.connect(\"embedder\", \"retriever\")"
   ]
  },
  {
   "cell_type": "code",
   "execution_count": 24,
   "id": "cd71cbd6",
   "metadata": {},
   "outputs": [
    {
     "name": "stderr",
     "output_type": "stream",
     "text": [
      "Batches: 100%|██████████| 1/1 [00:00<00:00, 15.91it/s]\n"
     ]
    },
    {
     "data": {
      "text/plain": [
       "{'retriever': {'documents': [Document(id=1e51b2fdd4606b16cfb582e64ffd7fb44e36fa2423fed1cf0f02ad5396015c3f, content: 'Rasta Imposta Flag Dress USA\n",
       "    The usa flag dress is the best outfit to wear if you want to show off ...', meta: {'asin': 'B00C3DLHY0', 'title': 'Rasta Imposta Flag Dress USA', 'brand': 'Rasta Imposta', 'price': 24.33, 'gender': 'female', 'material': 'Polyester', 'category': 'Dresses/Jumpsuits'}, score: 0.7217811942100525, embedding: vector of size 768),\n",
       "   Document(id=acbb5d5fde8d26791049fa83522c8fc41b1c1a0990db1b9be9f4ef922da3efce, content: 'Style J Sweet Grace Denim Skirt\n",
       "    Caual style long skirt, great price and high quality', meta: {'asin': 'B01AO9TSBS', 'title': 'Style J Sweet Grace Denim Skirt', 'brand': 'Style J', 'price': 35.0, 'gender': 'female', 'material': 'Cotton', 'category': 'Bottoms'}, score: 0.7141729593276978, embedding: vector of size 768),\n",
       "   Document(id=95cd4b8bb0a6182ca8aa1a1b7ab3da594d0b3c900f2db6770e6e856fd8e1c494, content: 'Style J Flowing Chambray Long Denim Skirt\n",
       "    Caual style long skirt, great price and high quality', meta: {'asin': 'B01C7IDCDE', 'title': 'Style J Flowing Chambray Long Denim Skirt', 'brand': 'Style J', 'price': 48.0, 'gender': 'female', 'material': 'Cotton', 'category': 'Bottoms'}, score: 0.7138041853904724, embedding: vector of size 768),\n",
       "   Document(id=f77b553a01de3fa73a284b9ffd7c69fde21dce45e3664703171fceff6418db26, content: 'Girls Petticoat Full Slip\n",
       "    Slip Body Petticoat, to add that touch and to make the gown fuller.', meta: {'asin': 'B000GRM1X6', 'title': 'Girls Petticoat Full Slip', 'brand': 'Flower Girl Dresses', 'price': 22.494999999999997, 'gender': 'female', 'material': 'Unknown', 'category': 'Undergarments/Sleepwear'}, score: 0.7118984460830688, embedding: vector of size 768),\n",
       "   Document(id=13a473e9ef572dbfe8f37cef1f1b59e02d43394e90addbe598c83ce4560117fd, content: 'Ivanka Trump Women's Lace Dress\n",
       "    Sleeveless floral dress with blush underlay perfect to we at for a ...', meta: {'asin': 'B01FH59HXS', 'title': \"Ivanka Trump Women's Lace Dress\", 'brand': nan, 'price': 98.6, 'gender': 'female', 'material': 'Polyester', 'category': 'Dresses/Jumpsuits'}, score: 0.7054650187492371, embedding: vector of size 768),\n",
       "   Document(id=a7fbb0e963d9fbd196f0927a3be5a410f205eb8316bc45bcb36ffecffb2c9d2f, content: 'Style J Fringed Fashionista Long Khaki Skirt\n",
       "    Caual style long skirt, great price and high quality', meta: {'asin': 'B00O17UHC4', 'title': 'Style J Fringed Fashionista Long Khaki Skirt', 'brand': 'Style J', 'price': 55.0, 'gender': 'female', 'material': 'Cotton', 'category': 'Bottoms'}, score: 0.7029857635498047, embedding: vector of size 768),\n",
       "   Document(id=dba80f6bb284087cf6517b5e9ff07b533cb33039a1a9e4413c305460c1739940, content: 'Style J Shimmer Black Long Denim Skirt\n",
       "    Caual style long skirt, great price and high quality', meta: {'asin': 'B01AO9TRJ6', 'title': 'Style J Shimmer Black Long Denim Skirt', 'brand': 'Style J', 'price': 52.0, 'gender': 'female', 'material': 'Cotton', 'category': 'Bottoms'}, score: 0.7013028860092163, embedding: vector of size 768),\n",
       "   Document(id=fe35ebc615c7027081f104dd2faf19f868776082732a532f61d9b95c180e7c59, content: 'First Class Hi-gloss Oxford Dress Shoes\n",
       "    The Oxford Dress Shoes have a high gloss upper that is perf...', meta: {'asin': 'B019NT6EAS', 'title': 'First Class Hi-gloss Oxford Dress Shoes', 'brand': 'First Class', 'price': 29.99, 'gender': 'male', 'material': 'Unknown', 'category': 'Footwear'}, score: 0.6952304840087891, embedding: vector of size 768),\n",
       "   Document(id=c72b53a22948126b5860fd58d59593a09e23dbca93666fcb36e6c4b605106a8c, content: 'likemary Maxi Wrap Dress Printed V-Neck\n",
       "    Earthy tones meet autumnal blooms in our maxi wrap dress th...', meta: {'asin': 'B0155GYJ8W', 'title': 'likemary Maxi Wrap Dress Printed V-Neck', 'brand': 'likemary', 'price': 52.0, 'gender': 'female', 'material': 'Viscose', 'category': 'Dresses/Jumpsuits'}, score: 0.6920106410980225, embedding: vector of size 768),\n",
       "   Document(id=4d9fd03651cd8d2fa084e3c314d34d6acf64ba0d0e37dbe64b0b52d4fd393b55, content: 'Muumuu Hawaiian Dresses The Luau\n",
       "    Muumuu dresses are not just for Hawaiian parties, it can be very c...', meta: {'asin': 'B00D0JL804', 'title': 'Muumuu Hawaiian Dresses The Luau', 'brand': 'Pacific Legend', 'price': 87.45, 'gender': 'female', 'material': 'Cotton', 'category': 'Dresses/Jumpsuits'}, score: 0.6918681859970093, embedding: vector of size 768)]}}"
      ]
     },
     "execution_count": 24,
     "metadata": {},
     "output_type": "execute_result"
    }
   ],
   "source": [
    "pipeline.run(\n",
    "    {\n",
    "        \"embedder\":{\n",
    "            \"text\":\"comfortable dress for going out with friends\"\n",
    "        }\n",
    "    }\n",
    ")"
   ]
  },
  {
   "cell_type": "markdown",
   "id": "017c04e4",
   "metadata": {},
   "source": [
    "## Menggunakan Meta Data untuk memfilter"
   ]
  },
  {
   "cell_type": "markdown",
   "id": "785e07e4",
   "metadata": {},
   "source": [
    "### Single Filter"
   ]
  },
  {
   "cell_type": "code",
   "execution_count": 25,
   "id": "e59495e9",
   "metadata": {},
   "outputs": [],
   "source": [
    "filters = {\n",
    "    \"field\":\"meta.category\",\"operator\":\"==\",\"value\":\"Dresses/Jumpsuits\"\n",
    "}"
   ]
  },
  {
   "cell_type": "code",
   "execution_count": 27,
   "id": "9f790e93",
   "metadata": {},
   "outputs": [
    {
     "name": "stderr",
     "output_type": "stream",
     "text": [
      "Batches: 100%|██████████| 1/1 [00:00<00:00, 11.28it/s]\n"
     ]
    },
    {
     "data": {
      "text/plain": [
       "{'retriever': {'documents': [Document(id=1e51b2fdd4606b16cfb582e64ffd7fb44e36fa2423fed1cf0f02ad5396015c3f, content: 'Rasta Imposta Flag Dress USA\n",
       "    The usa flag dress is the best outfit to wear if you want to show off ...', meta: {'asin': 'B00C3DLHY0', 'title': 'Rasta Imposta Flag Dress USA', 'brand': 'Rasta Imposta', 'price': 24.33, 'gender': 'female', 'material': 'Polyester', 'category': 'Dresses/Jumpsuits'}, score: 0.7217811942100525, embedding: vector of size 768),\n",
       "   Document(id=13a473e9ef572dbfe8f37cef1f1b59e02d43394e90addbe598c83ce4560117fd, content: 'Ivanka Trump Women's Lace Dress\n",
       "    Sleeveless floral dress with blush underlay perfect to we at for a ...', meta: {'asin': 'B01FH59HXS', 'title': \"Ivanka Trump Women's Lace Dress\", 'brand': nan, 'price': 98.6, 'gender': 'female', 'material': 'Polyester', 'category': 'Dresses/Jumpsuits'}, score: 0.7054650187492371, embedding: vector of size 768),\n",
       "   Document(id=c72b53a22948126b5860fd58d59593a09e23dbca93666fcb36e6c4b605106a8c, content: 'likemary Maxi Wrap Dress Printed V-Neck\n",
       "    Earthy tones meet autumnal blooms in our maxi wrap dress th...', meta: {'asin': 'B0155GYJ8W', 'title': 'likemary Maxi Wrap Dress Printed V-Neck', 'brand': 'likemary', 'price': 52.0, 'gender': 'female', 'material': 'Viscose', 'category': 'Dresses/Jumpsuits'}, score: 0.6920106410980225, embedding: vector of size 768),\n",
       "   Document(id=4d9fd03651cd8d2fa084e3c314d34d6acf64ba0d0e37dbe64b0b52d4fd393b55, content: 'Muumuu Hawaiian Dresses The Luau\n",
       "    Muumuu dresses are not just for Hawaiian parties, it can be very c...', meta: {'asin': 'B00D0JL804', 'title': 'Muumuu Hawaiian Dresses The Luau', 'brand': 'Pacific Legend', 'price': 87.45, 'gender': 'female', 'material': 'Cotton', 'category': 'Dresses/Jumpsuits'}, score: 0.6918681859970093, embedding: vector of size 768),\n",
       "   Document(id=a5c3efc5fa4f4c86d8c81dabb74b64c03020687d84be462053aaefc2f94d58cb, content: 'A. Byer Juniors' Cable-Knit Fashion Sweater Dress\n",
       "    Soft knit styling sweater dress with deep cowl ne...', meta: {'asin': 'B011T4NTU8', 'title': \"A. Byer Juniors' Cable-Knit Fashion Sweater Dress\", 'brand': nan, 'price': 34.99, 'gender': 'female', 'material': 'Polyester', 'category': 'Dresses/Jumpsuits'}, score: 0.6889418363571167, embedding: vector of size 768),\n",
       "   Document(id=db38bf21b88afde79cc0300a25915261b8d75f020d354b81d82a2550c9a389d3, content: 'Women's Sexy Sequin Costume Long Dress\n",
       "    \"Catch everyone's eye in this elegant, lined full length tan...', meta: {'asin': 'B00KFX2514', 'title': \"Women's Sexy Sequin Costume Long Dress\", 'brand': 'Underwraps', 'price': 35.77, 'gender': 'female', 'material': 'Polyester', 'category': 'Dresses/Jumpsuits'}, score: 0.6865596771240234, embedding: vector of size 768),\n",
       "   Document(id=59f42b8823c0b692711731c88ae4249d1cfc7119c6ea2560376ef38225600637, content: 'Women's Mary Peasant Costume Dress\n",
       "    \"Baby Girl! Be adorably sexy in this cute Mary Blue Gingham Peas...', meta: {'asin': 'B00FH2EF48', 'title': \"Women's Mary Peasant Costume Dress\", 'brand': nan, 'price': 29.95, 'gender': 'female', 'material': 'Polyester', 'category': 'Dresses/Jumpsuits'}, score: 0.6756192445755005, embedding: vector of size 768),\n",
       "   Document(id=2774770035d0354f1285343f79ca55f53f3e0debe8e52494f03fe5d98863a500, content: 'Cinda Pink Tutu/Ballet / Dance Dress\n",
       "    \\x95Soft and stretchy cotton leotard \\x95V neck design \\x95Sma...', meta: {'asin': 'B00IZN2ULQ', 'title': 'Cinda Pink Tutu/Ballet / Dance Dress', 'brand': 'Cinda', 'price': 23.36, 'gender': 'female', 'material': 'Cotton', 'category': 'Dresses/Jumpsuits'}, score: 0.6747254133224487, embedding: vector of size 768),\n",
       "   Document(id=b3141985881d1e2cd680720ff7abe13fa6619ce932be795331f70976acf2882c, content: 'Olive + Oak Womens Sundress, Medium\n",
       "    95% rayon, 5% spandex Machine wash, dry flat Breast pocket Draw...', meta: {'asin': 'B011LUNEFU', 'title': 'Olive + Oak Womens Sundress, Medium', 'brand': 'Olive + Oak', 'price': 24.98, 'gender': 'female', 'material': 'Rayon', 'category': 'Dresses/Jumpsuits'}, score: 0.6684755086898804, embedding: vector of size 768),\n",
       "   Document(id=677cd3b19d8f849721843061c95a9b7c6791cec6116d78dc1d69ce17e6c89f25, content: 'MALLORY CROCHET DRESS PINK\n",
       "    Sleeveless fully lined shift dress has medallion crochet overlay, scallo...', meta: {'asin': 'B00IT0T0AE', 'title': 'MALLORY CROCHET DRESS PINK', 'brand': 'Mud Pie', 'price': 27.84, 'gender': 'female', 'material': 'Cotton', 'category': 'Dresses/Jumpsuits'}, score: 0.6669615507125854, embedding: vector of size 768)]}}"
      ]
     },
     "execution_count": 27,
     "metadata": {},
     "output_type": "execute_result"
    }
   ],
   "source": [
    "pipeline.run(\n",
    "    {\n",
    "        \"embedder\":{\n",
    "            \"text\":\"comfortable dress for going out with friends\"\n",
    "        },\n",
    "        \"retriever\":{\n",
    "            \"filters\": filters\n",
    "        }\n",
    "    }\n",
    ")"
   ]
  },
  {
   "cell_type": "markdown",
   "id": "2ac0d058",
   "metadata": {},
   "source": [
    "### Multiple Filter"
   ]
  },
  {
   "cell_type": "code",
   "execution_count": 32,
   "id": "c0a1402d",
   "metadata": {},
   "outputs": [],
   "source": [
    "filters = {\n",
    "    \"operator\":\"AND\",\n",
    "    \"conditions\":[\n",
    "        {\"field\":\"meta.category\",\"operator\":\"==\",\"value\":\"Dresses/Jumpsuits\"},\n",
    "        {\"field\":\"meta.price\", \"operator\":\"<=\", \"value\":50},\n",
    "    ]\n",
    "    \n",
    "}"
   ]
  },
  {
   "cell_type": "code",
   "execution_count": 33,
   "id": "3a43cd13",
   "metadata": {},
   "outputs": [
    {
     "name": "stderr",
     "output_type": "stream",
     "text": [
      "Batches: 100%|██████████| 1/1 [00:00<00:00, 10.68it/s]\n"
     ]
    },
    {
     "data": {
      "text/plain": [
       "{'retriever': {'documents': [Document(id=1e51b2fdd4606b16cfb582e64ffd7fb44e36fa2423fed1cf0f02ad5396015c3f, content: 'Rasta Imposta Flag Dress USA\n",
       "    The usa flag dress is the best outfit to wear if you want to show off ...', meta: {'asin': 'B00C3DLHY0', 'title': 'Rasta Imposta Flag Dress USA', 'brand': 'Rasta Imposta', 'price': 24.33, 'gender': 'female', 'material': 'Polyester', 'category': 'Dresses/Jumpsuits'}, score: 0.7217811942100525, embedding: vector of size 768),\n",
       "   Document(id=a5c3efc5fa4f4c86d8c81dabb74b64c03020687d84be462053aaefc2f94d58cb, content: 'A. Byer Juniors' Cable-Knit Fashion Sweater Dress\n",
       "    Soft knit styling sweater dress with deep cowl ne...', meta: {'asin': 'B011T4NTU8', 'title': \"A. Byer Juniors' Cable-Knit Fashion Sweater Dress\", 'brand': nan, 'price': 34.99, 'gender': 'female', 'material': 'Polyester', 'category': 'Dresses/Jumpsuits'}, score: 0.6889418363571167, embedding: vector of size 768),\n",
       "   Document(id=db38bf21b88afde79cc0300a25915261b8d75f020d354b81d82a2550c9a389d3, content: 'Women's Sexy Sequin Costume Long Dress\n",
       "    \"Catch everyone's eye in this elegant, lined full length tan...', meta: {'asin': 'B00KFX2514', 'title': \"Women's Sexy Sequin Costume Long Dress\", 'brand': 'Underwraps', 'price': 35.77, 'gender': 'female', 'material': 'Polyester', 'category': 'Dresses/Jumpsuits'}, score: 0.6865596771240234, embedding: vector of size 768),\n",
       "   Document(id=59f42b8823c0b692711731c88ae4249d1cfc7119c6ea2560376ef38225600637, content: 'Women's Mary Peasant Costume Dress\n",
       "    \"Baby Girl! Be adorably sexy in this cute Mary Blue Gingham Peas...', meta: {'asin': 'B00FH2EF48', 'title': \"Women's Mary Peasant Costume Dress\", 'brand': nan, 'price': 29.95, 'gender': 'female', 'material': 'Polyester', 'category': 'Dresses/Jumpsuits'}, score: 0.6756192445755005, embedding: vector of size 768),\n",
       "   Document(id=2774770035d0354f1285343f79ca55f53f3e0debe8e52494f03fe5d98863a500, content: 'Cinda Pink Tutu/Ballet / Dance Dress\n",
       "    \\x95Soft and stretchy cotton leotard \\x95V neck design \\x95Sma...', meta: {'asin': 'B00IZN2ULQ', 'title': 'Cinda Pink Tutu/Ballet / Dance Dress', 'brand': 'Cinda', 'price': 23.36, 'gender': 'female', 'material': 'Cotton', 'category': 'Dresses/Jumpsuits'}, score: 0.6747254133224487, embedding: vector of size 768),\n",
       "   Document(id=b3141985881d1e2cd680720ff7abe13fa6619ce932be795331f70976acf2882c, content: 'Olive + Oak Womens Sundress, Medium\n",
       "    95% rayon, 5% spandex Machine wash, dry flat Breast pocket Draw...', meta: {'asin': 'B011LUNEFU', 'title': 'Olive + Oak Womens Sundress, Medium', 'brand': 'Olive + Oak', 'price': 24.98, 'gender': 'female', 'material': 'Rayon', 'category': 'Dresses/Jumpsuits'}, score: 0.6684755086898804, embedding: vector of size 768),\n",
       "   Document(id=677cd3b19d8f849721843061c95a9b7c6791cec6116d78dc1d69ce17e6c89f25, content: 'MALLORY CROCHET DRESS PINK\n",
       "    Sleeveless fully lined shift dress has medallion crochet overlay, scallo...', meta: {'asin': 'B00IT0T0AE', 'title': 'MALLORY CROCHET DRESS PINK', 'brand': 'Mud Pie', 'price': 27.84, 'gender': 'female', 'material': 'Cotton', 'category': 'Dresses/Jumpsuits'}, score: 0.6669615507125854, embedding: vector of size 768),\n",
       "   Document(id=e09a9a61dba240f9fe61d8a1e94fc5cc475e045a6c82f85b5653368eace6c36e, content: 'Roxy Juniors Blissful Dress\n",
       "    100% Cotton Front side pockets 100% Cotton Sleeveless Scoopneck Above K...', meta: {'asin': 'B013FE2622', 'title': 'Roxy Juniors Blissful Dress', 'brand': nan, 'price': 19.97, 'gender': 'female', 'material': 'Cotton', 'category': 'Dresses/Jumpsuits'}, score: 0.6662930250167847, embedding: vector of size 768),\n",
       "   Document(id=23b80c6b895ca910421841ae6ae8bf660f1fd56916789436cf02f90dab4a3499, content: 'Music Legs White Sexy Goddess\n",
       "    2 pc. White front twisted sexy goddess dress with side slits and atta...', meta: {'asin': 'B00NNCGEDE', 'title': 'Music Legs White Sexy Goddess', 'brand': 'Music Legs', 'price': 39.17, 'gender': 'female', 'material': 'Polyester', 'category': 'Dresses/Jumpsuits'}, score: 0.6629992127418518, embedding: vector of size 768),\n",
       "   Document(id=f54f43fdab120759c8a8b2b15eefb5189d56330c70dcadbff79627a3bad4510a, content: 'Carter's Baby Girl's Silk Appliqué Dress\n",
       "    This pretty Easter dress is complete with rosettes and tul...', meta: {'asin': 'B00RH3GI0O', 'title': \"Carter's Baby Girl's Silk Appliqué Dress\", 'brand': nan, 'price': 25.49, 'gender': 'female', 'material': 'Polyester', 'category': 'Dresses/Jumpsuits'}, score: 0.6625427007675171, embedding: vector of size 768)]}}"
      ]
     },
     "execution_count": 33,
     "metadata": {},
     "output_type": "execute_result"
    }
   ],
   "source": [
    "pipeline.run(\n",
    "    {\n",
    "        \"embedder\":{\n",
    "            \"text\":\"comfortable dress for going out with friends\"\n",
    "        },\n",
    "        \"retriever\":{\n",
    "            \"filters\": filters\n",
    "        }\n",
    "    }\n",
    ")"
   ]
  },
  {
   "cell_type": "markdown",
   "id": "20f388ce",
   "metadata": {},
   "source": [
    "### Advanced Filtering"
   ]
  },
  {
   "cell_type": "code",
   "execution_count": 34,
   "id": "f826b129",
   "metadata": {},
   "outputs": [],
   "source": [
    "filters = {\n",
    "    \"operator\":\"AND\",\n",
    "    \"conditions\":[\n",
    "        {\"field\":\"meta.category\",\"operator\":\"==\",\"value\":\"Dresses/Jumpsuits\"},\n",
    "        {\"field\":\"meta.price\", \"operator\":\"<=\", \"value\":50},\n",
    "        {\n",
    "            \"operator\":\"OR\",\n",
    "            \"conditions\":[\n",
    "                {\"field\":\"meta.material\",\"operator\":\"==\",\"value\":\"Cotton\"},\n",
    "                {\"field\":\"meta.material\",\"operator\":\"==\",\"value\":\"Polyester\"}\n",
    "            ]\n",
    "        }\n",
    "    ]\n",
    "    \n",
    "}"
   ]
  },
  {
   "cell_type": "code",
   "execution_count": 35,
   "id": "a17a31bd",
   "metadata": {},
   "outputs": [
    {
     "name": "stderr",
     "output_type": "stream",
     "text": [
      "Batches: 100%|██████████| 1/1 [00:00<00:00, 14.23it/s]\n"
     ]
    },
    {
     "data": {
      "text/plain": [
       "{'retriever': {'documents': [Document(id=1e51b2fdd4606b16cfb582e64ffd7fb44e36fa2423fed1cf0f02ad5396015c3f, content: 'Rasta Imposta Flag Dress USA\n",
       "    The usa flag dress is the best outfit to wear if you want to show off ...', meta: {'asin': 'B00C3DLHY0', 'title': 'Rasta Imposta Flag Dress USA', 'brand': 'Rasta Imposta', 'price': 24.33, 'gender': 'female', 'material': 'Polyester', 'category': 'Dresses/Jumpsuits'}, score: 0.7217811942100525, embedding: vector of size 768),\n",
       "   Document(id=a5c3efc5fa4f4c86d8c81dabb74b64c03020687d84be462053aaefc2f94d58cb, content: 'A. Byer Juniors' Cable-Knit Fashion Sweater Dress\n",
       "    Soft knit styling sweater dress with deep cowl ne...', meta: {'asin': 'B011T4NTU8', 'title': \"A. Byer Juniors' Cable-Knit Fashion Sweater Dress\", 'brand': nan, 'price': 34.99, 'gender': 'female', 'material': 'Polyester', 'category': 'Dresses/Jumpsuits'}, score: 0.6889418363571167, embedding: vector of size 768),\n",
       "   Document(id=db38bf21b88afde79cc0300a25915261b8d75f020d354b81d82a2550c9a389d3, content: 'Women's Sexy Sequin Costume Long Dress\n",
       "    \"Catch everyone's eye in this elegant, lined full length tan...', meta: {'asin': 'B00KFX2514', 'title': \"Women's Sexy Sequin Costume Long Dress\", 'brand': 'Underwraps', 'price': 35.77, 'gender': 'female', 'material': 'Polyester', 'category': 'Dresses/Jumpsuits'}, score: 0.6865596771240234, embedding: vector of size 768),\n",
       "   Document(id=59f42b8823c0b692711731c88ae4249d1cfc7119c6ea2560376ef38225600637, content: 'Women's Mary Peasant Costume Dress\n",
       "    \"Baby Girl! Be adorably sexy in this cute Mary Blue Gingham Peas...', meta: {'asin': 'B00FH2EF48', 'title': \"Women's Mary Peasant Costume Dress\", 'brand': nan, 'price': 29.95, 'gender': 'female', 'material': 'Polyester', 'category': 'Dresses/Jumpsuits'}, score: 0.6756192445755005, embedding: vector of size 768),\n",
       "   Document(id=2774770035d0354f1285343f79ca55f53f3e0debe8e52494f03fe5d98863a500, content: 'Cinda Pink Tutu/Ballet / Dance Dress\n",
       "    \\x95Soft and stretchy cotton leotard \\x95V neck design \\x95Sma...', meta: {'asin': 'B00IZN2ULQ', 'title': 'Cinda Pink Tutu/Ballet / Dance Dress', 'brand': 'Cinda', 'price': 23.36, 'gender': 'female', 'material': 'Cotton', 'category': 'Dresses/Jumpsuits'}, score: 0.6747254133224487, embedding: vector of size 768),\n",
       "   Document(id=677cd3b19d8f849721843061c95a9b7c6791cec6116d78dc1d69ce17e6c89f25, content: 'MALLORY CROCHET DRESS PINK\n",
       "    Sleeveless fully lined shift dress has medallion crochet overlay, scallo...', meta: {'asin': 'B00IT0T0AE', 'title': 'MALLORY CROCHET DRESS PINK', 'brand': 'Mud Pie', 'price': 27.84, 'gender': 'female', 'material': 'Cotton', 'category': 'Dresses/Jumpsuits'}, score: 0.6669615507125854, embedding: vector of size 768),\n",
       "   Document(id=e09a9a61dba240f9fe61d8a1e94fc5cc475e045a6c82f85b5653368eace6c36e, content: 'Roxy Juniors Blissful Dress\n",
       "    100% Cotton Front side pockets 100% Cotton Sleeveless Scoopneck Above K...', meta: {'asin': 'B013FE2622', 'title': 'Roxy Juniors Blissful Dress', 'brand': nan, 'price': 19.97, 'gender': 'female', 'material': 'Cotton', 'category': 'Dresses/Jumpsuits'}, score: 0.6662930250167847, embedding: vector of size 768),\n",
       "   Document(id=23b80c6b895ca910421841ae6ae8bf660f1fd56916789436cf02f90dab4a3499, content: 'Music Legs White Sexy Goddess\n",
       "    2 pc. White front twisted sexy goddess dress with side slits and atta...', meta: {'asin': 'B00NNCGEDE', 'title': 'Music Legs White Sexy Goddess', 'brand': 'Music Legs', 'price': 39.17, 'gender': 'female', 'material': 'Polyester', 'category': 'Dresses/Jumpsuits'}, score: 0.6629992127418518, embedding: vector of size 768),\n",
       "   Document(id=f54f43fdab120759c8a8b2b15eefb5189d56330c70dcadbff79627a3bad4510a, content: 'Carter's Baby Girl's Silk Appliqué Dress\n",
       "    This pretty Easter dress is complete with rosettes and tul...', meta: {'asin': 'B00RH3GI0O', 'title': \"Carter's Baby Girl's Silk Appliqué Dress\", 'brand': nan, 'price': 25.49, 'gender': 'female', 'material': 'Polyester', 'category': 'Dresses/Jumpsuits'}, score: 0.6625427007675171, embedding: vector of size 768),\n",
       "   Document(id=ea273a16dcdc542e9d44336be8ed199999bb5b8463adbed3d43e160824ab598f, content: 'Little Me Toddler Girls' Mesh Dress\n",
       "    \"Precious moments are made even sweeter when she's wearing this...', meta: {'asin': 'B01B4ZI5KG', 'title': \"Little Me Toddler Girls' Mesh Dress\", 'brand': nan, 'price': 13.17, 'gender': 'female', 'material': 'Polyester', 'category': 'Dresses/Jumpsuits'}, score: 0.6510780453681946, embedding: vector of size 768)]}}"
      ]
     },
     "execution_count": 35,
     "metadata": {},
     "output_type": "execute_result"
    }
   ],
   "source": [
    "pipeline.run(\n",
    "    {\n",
    "        \"embedder\":{\n",
    "            \"text\":\"comfortable dress for going out with friends\"\n",
    "        },\n",
    "        \"retriever\":{\n",
    "            \"filters\": filters\n",
    "        }\n",
    "    }\n",
    ")"
   ]
  },
  {
   "cell_type": "code",
   "execution_count": null,
   "id": "330c0d41",
   "metadata": {},
   "outputs": [],
   "source": []
  }
 ],
 "metadata": {
  "kernelspec": {
   "display_name": "shop_recommendation",
   "language": "python",
   "name": "python3"
  },
  "language_info": {
   "codemirror_mode": {
    "name": "ipython",
    "version": 3
   },
   "file_extension": ".py",
   "mimetype": "text/x-python",
   "name": "python",
   "nbconvert_exporter": "python",
   "pygments_lexer": "ipython3",
   "version": "3.12.11"
  }
 },
 "nbformat": 4,
 "nbformat_minor": 5
}
