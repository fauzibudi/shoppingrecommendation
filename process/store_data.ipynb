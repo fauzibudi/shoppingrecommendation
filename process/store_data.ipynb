{
 "cells": [
  {
   "cell_type": "markdown",
   "id": "6fc2ffe5",
   "metadata": {},
   "source": [
    "# Storing Data pada MongoDB Atlas"
   ]
  },
  {
   "cell_type": "markdown",
   "id": "a6d9fb0a",
   "metadata": {},
   "source": [
    "## Load Dataset"
   ]
  },
  {
   "cell_type": "code",
   "execution_count": 1,
   "id": "31b98391",
   "metadata": {},
   "outputs": [],
   "source": [
    "import pandas as pd\n",
    "df = pd.read_pickle('../data/datasets.pkl')"
   ]
  },
  {
   "cell_type": "code",
   "execution_count": 2,
   "id": "20562713",
   "metadata": {},
   "outputs": [
    {
     "data": {
      "text/html": [
       "<div>\n",
       "<style scoped>\n",
       "    .dataframe tbody tr th:only-of-type {\n",
       "        vertical-align: middle;\n",
       "    }\n",
       "\n",
       "    .dataframe tbody tr th {\n",
       "        vertical-align: top;\n",
       "    }\n",
       "\n",
       "    .dataframe thead th {\n",
       "        text-align: right;\n",
       "    }\n",
       "</style>\n",
       "<table border=\"1\" class=\"dataframe\">\n",
       "  <thead>\n",
       "    <tr style=\"text-align: right;\">\n",
       "      <th></th>\n",
       "      <th>title</th>\n",
       "      <th>brand</th>\n",
       "      <th>feature</th>\n",
       "      <th>rank</th>\n",
       "      <th>date</th>\n",
       "      <th>asin</th>\n",
       "      <th>imageURL</th>\n",
       "      <th>imageURLHighRes</th>\n",
       "      <th>description</th>\n",
       "      <th>price</th>\n",
       "      <th>also_view</th>\n",
       "      <th>also_buy</th>\n",
       "      <th>fit</th>\n",
       "      <th>details</th>\n",
       "      <th>similar_item</th>\n",
       "      <th>tech1</th>\n",
       "      <th>gender</th>\n",
       "      <th>material</th>\n",
       "      <th>category</th>\n",
       "    </tr>\n",
       "  </thead>\n",
       "  <tbody>\n",
       "    <tr>\n",
       "      <th>69</th>\n",
       "      <td>Buxton Heiress Pik-Me-Up Framed Case</td>\n",
       "      <td>Buxton</td>\n",
       "      <td>['Leather', 'Imported', 'synthetic lining', 'F...</td>\n",
       "      <td>43,930inClothing,Shoesamp;Jewelry(</td>\n",
       "      <td>5 star</td>\n",
       "      <td>B00007GDFV</td>\n",
       "      <td>[https://images-na.ssl-images-amazon.com/image...</td>\n",
       "      <td>[https://images-na.ssl-images-amazon.com/image...</td>\n",
       "      <td>['Authentic crunch leather with rich floral em...</td>\n",
       "      <td>16.95</td>\n",
       "      <td>[B07C9V84JD, B01J6JE05G, B07J11WZ5Y, B07JJQFHS...</td>\n",
       "      <td>[B07C9V84JD, B01J6JE05G, B07JJQFHS5, B003EGITU...</td>\n",
       "      <td>class=\"a-normal a-align-center a-spacing-smal...</td>\n",
       "      <td>NaN</td>\n",
       "      <td>NaN</td>\n",
       "      <td>NaN</td>\n",
       "      <td>female</td>\n",
       "      <td>Leather</td>\n",
       "      <td>Accessories</td>\n",
       "    </tr>\n",
       "    <tr>\n",
       "      <th>352</th>\n",
       "      <td>Disguise Tiny Treats Pink Leopard</td>\n",
       "      <td>NaN</td>\n",
       "      <td>['polyester', 'You can return this item for an...</td>\n",
       "      <td>5,843,505inClothing,ShoesJewelry(</td>\n",
       "      <td>5 star</td>\n",
       "      <td>B0002C6NL6</td>\n",
       "      <td>[https://images-na.ssl-images-amazon.com/image...</td>\n",
       "      <td>[https://images-na.ssl-images-amazon.com/image...</td>\n",
       "      <td>['A grrreat pink jumpsuit with attached tail a...</td>\n",
       "      <td>25.99</td>\n",
       "      <td>NaN</td>\n",
       "      <td>NaN</td>\n",
       "      <td>NaN</td>\n",
       "      <td>NaN</td>\n",
       "      <td>NaN</td>\n",
       "      <td>NaN</td>\n",
       "      <td>female</td>\n",
       "      <td>Polyester</td>\n",
       "      <td>Dresses/Jumpsuits</td>\n",
       "    </tr>\n",
       "    <tr>\n",
       "      <th>410</th>\n",
       "      <td>Dream PJ's Blue - Large - Part #: 25BLG</td>\n",
       "      <td>Ethical/Spot</td>\n",
       "      <td>['Product Dimensions:\\n                    \\n8...</td>\n",
       "      <td>17,183,425inClothing,Shoesamp;Jewelry(</td>\n",
       "      <td>5 star</td>\n",
       "      <td>B0002TKBSU</td>\n",
       "      <td>[https://images-na.ssl-images-amazon.com/image...</td>\n",
       "      <td>[https://images-na.ssl-images-amazon.com/image...</td>\n",
       "      <td>['SOFT AND CUDDLY, SWEET DREAM PAJAMAS IN SOFT...</td>\n",
       "      <td>15.99</td>\n",
       "      <td>NaN</td>\n",
       "      <td>NaN</td>\n",
       "      <td>NaN</td>\n",
       "      <td>NaN</td>\n",
       "      <td>NaN</td>\n",
       "      <td>NaN</td>\n",
       "      <td>unisex</td>\n",
       "      <td>Unknown</td>\n",
       "      <td>Undergarments/Sleepwear</td>\n",
       "    </tr>\n",
       "    <tr>\n",
       "      <th>512</th>\n",
       "      <td>Buxton Heiress Pik-Me-Up Framed Case</td>\n",
       "      <td>Buxton</td>\n",
       "      <td>['Leather', 'Imported', 'synthetic lining', 'F...</td>\n",
       "      <td>43,930inClothing,Shoesamp;Jewelry(</td>\n",
       "      <td>5 star</td>\n",
       "      <td>B00007GDFV</td>\n",
       "      <td>[https://images-na.ssl-images-amazon.com/image...</td>\n",
       "      <td>[https://images-na.ssl-images-amazon.com/image...</td>\n",
       "      <td>['Authentic crunch leather with rich floral em...</td>\n",
       "      <td>16.95</td>\n",
       "      <td>[B07C9V84JD, B01J6JE05G, B07J11WZ5Y, B07JJQFHS...</td>\n",
       "      <td>[B07C9V84JD, B01J6JE05G, B07JJQFHS5, B003EGITU...</td>\n",
       "      <td>class=\"a-normal a-align-center a-spacing-smal...</td>\n",
       "      <td>NaN</td>\n",
       "      <td>NaN</td>\n",
       "      <td>NaN</td>\n",
       "      <td>female</td>\n",
       "      <td>Leather</td>\n",
       "      <td>Accessories</td>\n",
       "    </tr>\n",
       "    <tr>\n",
       "      <th>795</th>\n",
       "      <td>Disguise Tiny Treats Pink Leopard</td>\n",
       "      <td>NaN</td>\n",
       "      <td>['polyester', 'You can return this item for an...</td>\n",
       "      <td>5,843,505inClothing,ShoesJewelry(</td>\n",
       "      <td>5 star</td>\n",
       "      <td>B0002C6NL6</td>\n",
       "      <td>[https://images-na.ssl-images-amazon.com/image...</td>\n",
       "      <td>[https://images-na.ssl-images-amazon.com/image...</td>\n",
       "      <td>['A grrreat pink jumpsuit with attached tail a...</td>\n",
       "      <td>25.99</td>\n",
       "      <td>NaN</td>\n",
       "      <td>NaN</td>\n",
       "      <td>NaN</td>\n",
       "      <td>NaN</td>\n",
       "      <td>NaN</td>\n",
       "      <td>NaN</td>\n",
       "      <td>female</td>\n",
       "      <td>Polyester</td>\n",
       "      <td>Dresses/Jumpsuits</td>\n",
       "    </tr>\n",
       "  </tbody>\n",
       "</table>\n",
       "</div>"
      ],
      "text/plain": [
       "                                       title         brand  \\\n",
       "69      Buxton Heiress Pik-Me-Up Framed Case        Buxton   \n",
       "352        Disguise Tiny Treats Pink Leopard           NaN   \n",
       "410  Dream PJ's Blue - Large - Part #: 25BLG  Ethical/Spot   \n",
       "512     Buxton Heiress Pik-Me-Up Framed Case        Buxton   \n",
       "795        Disguise Tiny Treats Pink Leopard           NaN   \n",
       "\n",
       "                                               feature  \\\n",
       "69   ['Leather', 'Imported', 'synthetic lining', 'F...   \n",
       "352  ['polyester', 'You can return this item for an...   \n",
       "410  ['Product Dimensions:\\n                    \\n8...   \n",
       "512  ['Leather', 'Imported', 'synthetic lining', 'F...   \n",
       "795  ['polyester', 'You can return this item for an...   \n",
       "\n",
       "                                       rank    date        asin  \\\n",
       "69       43,930inClothing,Shoesamp;Jewelry(  5 star  B00007GDFV   \n",
       "352       5,843,505inClothing,ShoesJewelry(  5 star  B0002C6NL6   \n",
       "410  17,183,425inClothing,Shoesamp;Jewelry(  5 star  B0002TKBSU   \n",
       "512      43,930inClothing,Shoesamp;Jewelry(  5 star  B00007GDFV   \n",
       "795       5,843,505inClothing,ShoesJewelry(  5 star  B0002C6NL6   \n",
       "\n",
       "                                              imageURL  \\\n",
       "69   [https://images-na.ssl-images-amazon.com/image...   \n",
       "352  [https://images-na.ssl-images-amazon.com/image...   \n",
       "410  [https://images-na.ssl-images-amazon.com/image...   \n",
       "512  [https://images-na.ssl-images-amazon.com/image...   \n",
       "795  [https://images-na.ssl-images-amazon.com/image...   \n",
       "\n",
       "                                       imageURLHighRes  \\\n",
       "69   [https://images-na.ssl-images-amazon.com/image...   \n",
       "352  [https://images-na.ssl-images-amazon.com/image...   \n",
       "410  [https://images-na.ssl-images-amazon.com/image...   \n",
       "512  [https://images-na.ssl-images-amazon.com/image...   \n",
       "795  [https://images-na.ssl-images-amazon.com/image...   \n",
       "\n",
       "                                           description  price  \\\n",
       "69   ['Authentic crunch leather with rich floral em...  16.95   \n",
       "352  ['A grrreat pink jumpsuit with attached tail a...  25.99   \n",
       "410  ['SOFT AND CUDDLY, SWEET DREAM PAJAMAS IN SOFT...  15.99   \n",
       "512  ['Authentic crunch leather with rich floral em...  16.95   \n",
       "795  ['A grrreat pink jumpsuit with attached tail a...  25.99   \n",
       "\n",
       "                                             also_view  \\\n",
       "69   [B07C9V84JD, B01J6JE05G, B07J11WZ5Y, B07JJQFHS...   \n",
       "352                                                NaN   \n",
       "410                                                NaN   \n",
       "512  [B07C9V84JD, B01J6JE05G, B07J11WZ5Y, B07JJQFHS...   \n",
       "795                                                NaN   \n",
       "\n",
       "                                              also_buy  \\\n",
       "69   [B07C9V84JD, B01J6JE05G, B07JJQFHS5, B003EGITU...   \n",
       "352                                                NaN   \n",
       "410                                                NaN   \n",
       "512  [B07C9V84JD, B01J6JE05G, B07JJQFHS5, B003EGITU...   \n",
       "795                                                NaN   \n",
       "\n",
       "                                                   fit details similar_item  \\\n",
       "69    class=\"a-normal a-align-center a-spacing-smal...     NaN          NaN   \n",
       "352                                                NaN     NaN          NaN   \n",
       "410                                                NaN     NaN          NaN   \n",
       "512   class=\"a-normal a-align-center a-spacing-smal...     NaN          NaN   \n",
       "795                                                NaN     NaN          NaN   \n",
       "\n",
       "    tech1  gender   material                 category  \n",
       "69    NaN  female    Leather              Accessories  \n",
       "352   NaN  female  Polyester        Dresses/Jumpsuits  \n",
       "410   NaN  unisex    Unknown  Undergarments/Sleepwear  \n",
       "512   NaN  female    Leather              Accessories  \n",
       "795   NaN  female  Polyester        Dresses/Jumpsuits  "
      ]
     },
     "execution_count": 2,
     "metadata": {},
     "output_type": "execute_result"
    }
   ],
   "source": [
    "df.head()"
   ]
  },
  {
   "cell_type": "markdown",
   "id": "5c61e5b8",
   "metadata": {},
   "source": [
    "## Building Dataset"
   ]
  },
  {
   "cell_type": "code",
   "execution_count": 3,
   "id": "cb21bc7d",
   "metadata": {},
   "outputs": [],
   "source": [
    "from haystack import Document\n",
    "documents = []\n",
    "for index, row in df.iterrows():\n",
    "    descriptions = row[\"description\"].strip(\"[]\").strip(\"''\")\n",
    "\n",
    "    doc = Document(\n",
    "        content = f\"{row['title']}\\n {descriptions}\",\n",
    "        meta = {\n",
    "            'asin': row['asin'],\n",
    "            'title': row['title'],\n",
    "            'brand': row['brand'],\n",
    "            'price': row['price'],\n",
    "            'gender': row['gender'],\n",
    "            'material': row['material'],\n",
    "            'category': row['category'],\n",
    "        }\n",
    "    )\n",
    "    documents.append(doc)"
   ]
  },
  {
   "cell_type": "code",
   "execution_count": 5,
   "id": "19c49be0",
   "metadata": {},
   "outputs": [
    {
     "data": {
      "text/plain": [
       "Document(id=bd174fb86972d98caf70c4784fb24ef902812b76b05fde64b1b9c3874702f92c, content: 'Buxton Heiress Pik-Me-Up Framed Case\n",
       " Authentic crunch leather with rich floral embossed logo heires...', meta: {'asin': 'B00007GDFV', 'title': 'Buxton Heiress Pik-Me-Up Framed Case', 'brand': 'Buxton', 'price': 16.95, 'gender': 'female', 'material': 'Leather', 'category': 'Accessories'})"
      ]
     },
     "execution_count": 5,
     "metadata": {},
     "output_type": "execute_result"
    }
   ],
   "source": [
    "documents[0]"
   ]
  },
  {
   "cell_type": "markdown",
   "id": "9aef7836",
   "metadata": {},
   "source": [
    "## Membuat Storing Pipeline"
   ]
  },
  {
   "cell_type": "code",
   "execution_count": null,
   "id": "1b1c5e97",
   "metadata": {},
   "outputs": [],
   "source": [
    "import os\n",
    "from getpass import getpass\n",
    "os.environ[\"MONGO_CONNECTION_STRING\"] = getpass(\"Masukkan MongoDB Connection String Anda: \")"
   ]
  },
  {
   "cell_type": "code",
   "execution_count": 18,
   "id": "5057a474",
   "metadata": {},
   "outputs": [
    {
     "name": "stderr",
     "output_type": "stream",
     "text": [
      "c:\\Users\\GULO\\.conda\\envs\\shop_recommendation\\Lib\\site-packages\\tqdm\\auto.py:21: TqdmWarning: IProgress not found. Please update jupyter and ipywidgets. See https://ipywidgets.readthedocs.io/en/stable/user_install.html\n",
      "  from .autonotebook import tqdm as notebook_tqdm\n"
     ]
    }
   ],
   "source": [
    "from haystack import Pipeline\n",
    "from haystack.components.embedders import SentenceTransformersDocumentEmbedder\n",
    "from haystack.components.writers import DocumentWriter\n",
    "from haystack.document_stores.types import DuplicatePolicy\n",
    "pipeline_storing = Pipeline()"
   ]
  },
  {
   "cell_type": "code",
   "execution_count": 24,
   "id": "bdc97694",
   "metadata": {},
   "outputs": [],
   "source": [
    "from haystack_integrations.document_stores.mongodb_atlas import MongoDBAtlasDocumentStore\n",
    "document_store = MongoDBAtlasDocumentStore(\n",
    "    database_name=\"depato_store\",\n",
    "    collection_name=\"products\",\n",
    "    vector_search_index=\"vector_index\",\n",
    "    full_text_search_index=\"search_index\",\n",
    ")"
   ]
  },
  {
   "cell_type": "code",
   "execution_count": 25,
   "id": "8fa7d367",
   "metadata": {},
   "outputs": [
    {
     "data": {
      "text/plain": [
       "<haystack.core.pipeline.pipeline.Pipeline object at 0x000001DADB6179B0>\n",
       "🚅 Components\n",
       "  - embedder: SentenceTransformersDocumentEmbedder\n",
       "  - writer: DocumentWriter\n",
       "🛤️ Connections\n",
       "  - embedder.documents -> writer.documents (List[Document])"
      ]
     },
     "execution_count": 25,
     "metadata": {},
     "output_type": "execute_result"
    }
   ],
   "source": [
    "pipeline = Pipeline()\n",
    "pipeline.add_component(\"embedder\",SentenceTransformersDocumentEmbedder())\n",
    "pipeline.add_component(\"writer\",DocumentWriter(document_store=document_store,policy=DuplicatePolicy.OVERWRITE))\n",
    "\n",
    "pipeline.connect(\"embedder\",\"writer\")"
   ]
  },
  {
   "cell_type": "code",
   "execution_count": 26,
   "id": "bc027a0f",
   "metadata": {},
   "outputs": [
    {
     "name": "stderr",
     "output_type": "stream",
     "text": [
      "Batches: 100%|██████████| 40/40 [01:16<00:00,  1.92s/it]\n"
     ]
    },
    {
     "data": {
      "text/plain": [
       "{'writer': {'documents_written': 1262}}"
      ]
     },
     "execution_count": 26,
     "metadata": {},
     "output_type": "execute_result"
    }
   ],
   "source": [
    "pipeline.run({\n",
    "    \"embedder\":{\n",
    "        \"documents\":documents\n",
    "    }\n",
    "})"
   ]
  },
  {
   "cell_type": "markdown",
   "id": "c9cf18f1",
   "metadata": {},
   "source": [
    "## Menyimpan Category dan Material di koleksi "
   ]
  },
  {
   "cell_type": "code",
   "execution_count": 5,
   "id": "1ee2e1e1",
   "metadata": {},
   "outputs": [],
   "source": [
    "from pymongo import MongoClient\n",
    "import os\n",
    "client = MongoClient(os.environ['MONGO_CONNECTION_STRING'])\n",
    "db = client.depato_store\n",
    "material_collection = db.materials\n",
    "category_collection = db.categories"
   ]
  },
  {
   "cell_type": "code",
   "execution_count": 6,
   "id": "70fba94f",
   "metadata": {},
   "outputs": [],
   "source": [
    "materials = df['material'].unique().tolist()\n",
    "categories = df['category'].unique().tolist()"
   ]
  },
  {
   "cell_type": "code",
   "execution_count": 8,
   "id": "32435dcc",
   "metadata": {},
   "outputs": [],
   "source": [
    "documents_material= [ {\"name\":m} for m in materials]\n",
    "documents_category = [ {\"name\":c} for c in categories]"
   ]
  },
  {
   "cell_type": "code",
   "execution_count": 10,
   "id": "4bd7ebc1",
   "metadata": {},
   "outputs": [
    {
     "data": {
      "text/plain": [
       "InsertManyResult([ObjectId('688957153021d83d1fb416dd'), ObjectId('688957153021d83d1fb416de'), ObjectId('688957153021d83d1fb416df'), ObjectId('688957153021d83d1fb416e0'), ObjectId('688957153021d83d1fb416e1'), ObjectId('688957153021d83d1fb416e2'), ObjectId('688957153021d83d1fb416e3'), ObjectId('688957153021d83d1fb416e4'), ObjectId('688957153021d83d1fb416e5'), ObjectId('688957153021d83d1fb416e6')], acknowledged=True)"
      ]
     },
     "execution_count": 10,
     "metadata": {},
     "output_type": "execute_result"
    }
   ],
   "source": [
    "material_collection.insert_many(documents_material)\n",
    "category_collection.insert_many(documents_category)"
   ]
  },
  {
   "cell_type": "code",
   "execution_count": null,
   "id": "4713ccc4",
   "metadata": {},
   "outputs": [],
   "source": []
  }
 ],
 "metadata": {
  "kernelspec": {
   "display_name": "tf_env",
   "language": "python",
   "name": "python3"
  },
  "language_info": {
   "codemirror_mode": {
    "name": "ipython",
    "version": 3
   },
   "file_extension": ".py",
   "mimetype": "text/x-python",
   "name": "python",
   "nbconvert_exporter": "python",
   "pygments_lexer": "ipython3",
   "version": "3.10.0"
  }
 },
 "nbformat": 4,
 "nbformat_minor": 5
}
